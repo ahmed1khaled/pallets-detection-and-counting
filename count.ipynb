{
 "cells": [
  {
   "cell_type": "markdown",
   "id": "0cfdbff3",
   "metadata": {
    "scrolled": true
   },
   "source": [
    "import cv2\n",
    "\n",
    "import numpy as np\n",
    "\n",
    "\n",
    "def POINTS(event, x, y, flags, param):\n",
    "    if event == cv2.EVENT_MOUSEMOVE :  \n",
    "        colorsBGR = [x, y]\n",
    "        print(colorsBGR)\n",
    "        \n",
    "\n",
    "cv2.namedWindow('FRAME')\n",
    "#cv2.setMouseCallback('FRAME', POINTS)            \n",
    "    \n",
    "           \n",
    "\n",
    "\n",
    "\n",
    "fourcc = cv2.VideoWriter_fourcc(*'XVID') #use any fourcc type to improve quality for the saved video\n",
    "out = cv2.VideoWriter('output.avi', fourcc, 20.0, (640,480)) #Video settings\n",
    "\n",
    "cap=cv2.VideoCapture('work.mp4')\n",
    "\n",
    "\n",
    "\n",
    "area = [(26,433),(9,516),(389, 492),(786,419),(720,368)]\n",
    "while True:\n",
    "    \n",
    "    ret,frame=cap.read()\n",
    "    if not ret:\n",
    "        break\n",
    "    frame=cv2.resize(frame,(1020,600))\n",
    "\n",
    "   \n",
    "    #print(results.xyxy[0])\n",
    "    #print(results.pandas().xyxy[0])\n",
    "    #results.pandas()\n",
    "    points = []\n",
    "        \n",
    "    \n",
    "                \n",
    "    cv2.imshow(\"FRAME\",frame)\n",
    "    out.write(frame) #save your video\n",
    "    #cv2.setMouseCallback(\"FRAME\",POINTS)\n",
    "   \n",
    "\n",
    "    if cv2.waitKey(1)==27:\n",
    "        break\n",
    "cap.release()\n",
    "out.release()\n",
    "\n",
    "cv2.destroyAllWindows()\n",
    "\n"
   ]
  },
  {
   "cell_type": "code",
   "execution_count": 1,
   "id": "0b62c510",
   "metadata": {},
   "outputs": [
    {
     "name": "stdout",
     "output_type": "stream",
     "text": [
      "Num GPUs Available:  0\n"
     ]
    }
   ],
   "source": [
    "import tensorflow as tf\n",
    "print(\"Num GPUs Available: \", len(tf.config.experimental.list_physical_devices('GPU')))"
   ]
  },
  {
   "cell_type": "code",
   "execution_count": 2,
   "id": "c413af9a",
   "metadata": {},
   "outputs": [
    {
     "data": {
      "text/plain": [
       "False"
      ]
     },
     "execution_count": 2,
     "metadata": {},
     "output_type": "execute_result"
    }
   ],
   "source": [
    "import torch\n",
    "torch.cuda.is_available()"
   ]
  },
  {
   "cell_type": "code",
   "execution_count": 4,
   "id": "3c22d940",
   "metadata": {},
   "outputs": [
    {
     "name": "stderr",
     "output_type": "stream",
     "text": [
      "Downloading: \"https://github.com/ultralytics/yolov5/zipball/master\" to C:\\Users\\abo khaled/.cache\\torch\\hub\\master.zip\n",
      "\u001b[31m\u001b[1mrequirements:\u001b[0m YOLOv5 requirement \"gitpython>=3.1.30\" not found, attempting AutoUpdate...\n",
      "Requirement already satisfied: gitpython>=3.1.30 in c:\\users\\abo khaled\\anaconda3\\lib\\site-packages (3.1.31)\n",
      "Requirement already satisfied: gitdb<5,>=4.0.1 in c:\\users\\abo khaled\\anaconda3\\lib\\site-packages (from gitpython>=3.1.30) (4.0.10)\n",
      "Requirement already satisfied: smmap<6,>=3.0.1 in c:\\users\\abo khaled\\anaconda3\\lib\\site-packages (from gitdb<5,>=4.0.1->gitpython>=3.1.30) (5.0.0)\n",
      "\n",
      "\u001b[31m\u001b[1mrequirements:\u001b[0m 1 package updated per C:\\Users\\abo khaled\\.cache\\torch\\hub\\ultralytics_yolov5_master\\requirements.txt\n",
      "\u001b[31m\u001b[1mrequirements:\u001b[0m  \u001b[1mRestart runtime or rerun command for updates to take effect\u001b[0m\n",
      "\n",
      "YOLOv5  2023-3-1 Python-3.9.13 torch-1.13.1 CPU\n",
      "\n",
      "Fusing layers... \n",
      "YOLOv5m summary: 212 layers, 20852934 parameters, 0 gradients\n",
      "Adding AutoShape... \n"
     ]
    }
   ],
   "source": [
    "import cv2\n",
    "import torch\n",
    "\n",
    "model = torch.hub.load('ultralytics/yolov5', 'custom', \n",
    " path='platt.pt', force_reload=True) "
   ]
  },
  {
   "cell_type": "code",
   "execution_count": 17,
   "id": "156c6b87",
   "metadata": {},
   "outputs": [
    {
     "name": "stdout",
     "output_type": "stream",
     "text": [
      "Collecting pynvml\n",
      "  Downloading pynvml-11.5.0-py3-none-any.whl (53 kB)\n",
      "     -------------------------------------- 53.1/53.1 kB 461.2 kB/s eta 0:00:00\n",
      "Installing collected packages: pynvml\n",
      "Successfully installed pynvml-11.5.0\n"
     ]
    }
   ],
   "source": [
    "!pip install pynvml"
   ]
  },
  {
   "cell_type": "code",
   "execution_count": 24,
   "id": "1a650758",
   "metadata": {},
   "outputs": [],
   "source": [
    "from pynvml.smi import nvidia_smi\n",
    "nvsmi = nvidia_smi.getInstance()\n",
    "nvsmi.DeviceQuery('memory.free , memory.total')\n",
    "torch.cuda.empty_cache()"
   ]
  },
  {
   "cell_type": "code",
   "execution_count": 25,
   "id": "f102774d",
   "metadata": {},
   "outputs": [],
   "source": [
    "import cv2\n",
    "import numpy as np\n",
    "from time import sleep , time\n",
    "import torch.backends.cuda as cuda\n",
    "\n",
    "torch.cuda.empty_cache()\n",
    "w_min=10 #Largura minima do retangulo\n",
    "h_min=10 #Altura minima do retangulo\n",
    "\n",
    "offset=3 #Erro permitido entre pixel  \n",
    "\n",
    "#y1=550 #Posição da linha de contagem \n",
    "\n",
    "delay=60\n",
    "detec=[]\n",
    "carr=0\n",
    "\n",
    "def pega_centro(x, y, w, h):\n",
    "    \n",
    "    x1 = int(int(w-x) / 2)\n",
    "    y1 = int(int(h-y) / 2)\n",
    "    cx = x + x1\n",
    "    cy = y + y1\n",
    "    return cx,cy\n",
    "\n",
    "cap = cv2.VideoCapture('My Video.mp4')\n",
    "\n",
    "while True:\n",
    "    ret , frame1 = cap.read()\n",
    "    #cuda.torch= True \n",
    "    if cv2.waitKey(1)==ord('q'):\n",
    "            break\n",
    "    frame1=cv2.resize(frame1,(1500,1000))\n",
    "    #frame1=cv2.resize(frame1,(1020,600))\n",
    "    cv2.line(frame1, (241,366),(1353 , 366), (255,127,0), 3)\n",
    "    #cv2.line(frame1, (337,550),(1720 , 550), (255,127,0), 3) \n",
    "    #cv2.line(frame1, (177, 330), (920, 330), (255,127,0), 3) \n",
    "    #grey = cv2.cvtColor(frame1,cv2.COLOR_BGR2GRAY)\n",
    "    blur = cv2.GaussianBlur(frame1,(3,3),10)\n",
    "    results = model(blur, size=640)  \n",
    "    res=results.pandas().xyxy[0]\n",
    "    for i in range (len(res)) :\n",
    "        xmin,ymin,xmax,ymax,confidence,_,_=res.iloc[i,:]\n",
    "        xmin,ymin,xmax,ymax=int(xmin),int(ymin),int(xmax),int(ymax)\n",
    "        if confidence > 0.1 :\n",
    "            cv2.rectangle(frame1, (xmin , ymin), (xmax , ymax), (0,127,255), 2)\n",
    "            cv2.putText(frame1, str(\"paltt of water\"), (xmin, ymin-10), cv2.FONT_HERSHEY_SIMPLEX,1, ((0, 255, 0)), 2, cv2.LINE_AA) \n",
    "            cv2.putText(frame1, str(round(confidence,2)), (xmin+225 , ymin-10), cv2.FONT_HERSHEY_SIMPLEX,1, ((0, 255, 0)), 2, cv2.LINE_AA)\n",
    "            #cv2.rectangle(frame1,(x,y),(x+w,y+h),(0,255,0),2)\n",
    "            \n",
    "            centro = pega_centro(xmin , ymin,xmax , ymax)\n",
    "            \n",
    "            detec.append(centro)\n",
    "            #print(centro)\n",
    "            cv2.circle(frame1, centro, 6, (0, 0,255), -1)\n",
    "            for(x,y) in detec:\n",
    "                if(y<(369))and(y>(363)):\n",
    "                        carr+=1\n",
    "                        cv2.line(frame1, (241,366),(1353 , 366), (0,127,255), 3)\n",
    "                        detec.remove((x,y))\n",
    "                        print(\"no. of pallets detected : \" + str(carr))\n",
    "                        _, frame = cap.read()\n",
    "\n",
    "            cv2.putText(frame1, \"PALLETS COUNT : \"+str(carr), (450,48), cv2.FONT_HERSHEY_SIMPLEX, 2, (0, 0, 255),5)\n",
    "        \n",
    "        \n",
    "        \n",
    "    cv2.imshow(\"Video Original\" , frame1)   \n",
    "    if cv2.waitKey(1)==ord('q'):\n",
    "            break\n",
    "   \n",
    "    \n",
    " \n",
    "    \n",
    "    \n",
    "        \n",
    "\n",
    "cv2.destroyAllWindows()\n",
    "cap.release()\n",
    "            \n"
   ]
  },
  {
   "cell_type": "code",
   "execution_count": 24,
   "id": "c14ac740",
   "metadata": {},
   "outputs": [],
   "source": [
    "def click(ev,x,y,flags,param):\n",
    "        if ev==cv2.EVENT_LBUTTONDOWN:\n",
    "                print(x,' , ',y)\n",
    "                font=cv2.FONT_HERSHEY_SIMPLEX\n",
    "                strxy=str(x)+' , '+str(y)\n",
    "                cv2.putText(frame,strxy,(x,y),font, .5,(255,255,0),2)\n",
    "                cv2.imshow('image',frame)\n",
    "import cv2                \n",
    "cap=cv2.VideoCapture('work.mp4')\n",
    "\n",
    "while True:\n",
    "    \n",
    "    ret,frame=cap.read()\n",
    "    if not ret:\n",
    "        break\n",
    "    #frame=cv2.resize(frame,(1500,1000))\n",
    "    frame=cv2.resize(frame,(1500,1000))\n",
    "\n",
    "   \n",
    "    #img=cv2.imread('unnamed.jpg')\n",
    "    \n",
    "    cv2.imshow('image',frame)\n",
    "    cv2.setMouseCallback('image',click)\n",
    "        \n",
    "    cv2.line(frame, (241,366),(1353 , 366), (255,127,0), 3) \n",
    "                \n",
    "    #cv2.imshow(\"FRAME\",frame)\n",
    "    cv2.imshow('image',frame)\n",
    "    #cv2.setMouseCallback(\"FRAME\",POINTS)\n",
    "   \n",
    "\n",
    "    if cv2.waitKey(1)==ord('q'):\n",
    "            break\n",
    "cap.release()\n",
    "\n",
    "\n",
    "cv2.destroyAllWindows()\n"
   ]
  },
  {
   "cell_type": "code",
   "execution_count": 19,
   "id": "d0a4af5a",
   "metadata": {},
   "outputs": [
    {
     "data": {
      "text/plain": [
       "(1741, 430)"
      ]
     },
     "execution_count": 19,
     "metadata": {},
     "output_type": "execute_result"
    }
   ],
   "source": [
    "920  ,  339\n",
    "177  ,  348\n",
    "\n",
    "337  ,  430\n",
    "1741  ,  430"
   ]
  },
  {
   "cell_type": "code",
   "execution_count": 28,
   "id": "b648574b",
   "metadata": {},
   "outputs": [
    {
     "name": "stdout",
     "output_type": "stream",
     "text": [
      "Requirement already satisfied: xlsxwriter in c:\\users\\abo khaled\\anaconda3\\lib\\site-packages (3.0.3)\n",
      "Note: you may need to restart the kernel to use updated packages.\n"
     ]
    },
    {
     "name": "stderr",
     "output_type": "stream",
     "text": [
      "WARNING: Ignoring invalid distribution -etuptools (c:\\users\\abo khaled\\anaconda3\\lib\\site-packages)\n",
      "WARNING: Ignoring invalid distribution -etuptools (c:\\users\\abo khaled\\anaconda3\\lib\\site-packages)\n",
      "WARNING: Ignoring invalid distribution -etuptools (c:\\users\\abo khaled\\anaconda3\\lib\\site-packages)\n",
      "WARNING: Ignoring invalid distribution -etuptools (c:\\users\\abo khaled\\anaconda3\\lib\\site-packages)\n",
      "WARNING: Ignoring invalid distribution -etuptools (c:\\users\\abo khaled\\anaconda3\\lib\\site-packages)\n",
      "WARNING: Ignoring invalid distribution -etuptools (c:\\users\\abo khaled\\anaconda3\\lib\\site-packages)\n"
     ]
    }
   ],
   "source": [
    " pip install xlsxwriter"
   ]
  },
  {
   "cell_type": "code",
   "execution_count": 29,
   "id": "ce22595f",
   "metadata": {},
   "outputs": [],
   "source": [
    "import xlsxwriter"
   ]
  },
  {
   "cell_type": "code",
   "execution_count": 30,
   "id": "ade34bbb",
   "metadata": {},
   "outputs": [
    {
     "name": "stdout",
     "output_type": "stream",
     "text": [
      "Collecting ultralytics\n",
      "  Downloading ultralytics-8.0.48-py3-none-any.whl (303 kB)\n",
      "     ------------------------------------ 303.4/303.4 kB 436.3 kB/s eta 0:00:00\n",
      "Requirement already satisfied: Pillow>=7.1.2 in c:\\users\\abo khaled\\anaconda3\\lib\\site-packages (from ultralytics) (9.2.0)\n",
      "Requirement already satisfied: matplotlib>=3.2.2 in c:\\users\\abo khaled\\anaconda3\\lib\\site-packages (from ultralytics) (3.5.2)\n",
      "Requirement already satisfied: tensorboard>=2.4.1 in c:\\users\\abo khaled\\anaconda3\\lib\\site-packages (from ultralytics) (2.11.0)\n",
      "Requirement already satisfied: PyYAML>=5.3.1 in c:\\users\\abo khaled\\anaconda3\\lib\\site-packages (from ultralytics) (6.0)\n",
      "Requirement already satisfied: tqdm>=4.64.0 in c:\\users\\abo khaled\\anaconda3\\lib\\site-packages (from ultralytics) (4.64.1)\n",
      "Collecting certifi>=2022.12.7\n",
      "  Downloading certifi-2022.12.7-py3-none-any.whl (155 kB)\n",
      "     ------------------------------------ 155.3/155.3 kB 290.0 kB/s eta 0:00:00\n",
      "Collecting sentry-sdk\n",
      "  Downloading sentry_sdk-1.16.0-py2.py3-none-any.whl (184 kB)\n",
      "     ------------------------------------ 184.3/184.3 kB 132.7 kB/s eta 0:00:00\n",
      "Requirement already satisfied: requests>=2.23.0 in c:\\users\\abo khaled\\anaconda3\\lib\\site-packages (from ultralytics) (2.28.1)\n",
      "Requirement already satisfied: pandas>=1.1.4 in c:\\users\\abo khaled\\anaconda3\\lib\\site-packages (from ultralytics) (1.4.4)\n",
      "Requirement already satisfied: opencv-python>=4.6.0 in c:\\users\\abo khaled\\anaconda3\\lib\\site-packages (from ultralytics) (4.6.0.66)\n",
      "Requirement already satisfied: scipy>=1.4.1 in c:\\users\\abo khaled\\anaconda3\\lib\\site-packages (from ultralytics) (1.9.1)\n",
      "Requirement already satisfied: numpy>=1.18.5 in c:\\users\\abo khaled\\anaconda3\\lib\\site-packages (from ultralytics) (1.21.5)\n",
      "Requirement already satisfied: psutil in c:\\users\\abo khaled\\anaconda3\\lib\\site-packages (from ultralytics) (5.9.0)\n",
      "Requirement already satisfied: seaborn>=0.11.0 in c:\\users\\abo khaled\\anaconda3\\lib\\site-packages (from ultralytics) (0.11.2)\n",
      "Requirement already satisfied: torch>=1.7.0 in c:\\users\\abo khaled\\anaconda3\\lib\\site-packages (from ultralytics) (1.13.1)\n",
      "Collecting thop>=0.1.1\n",
      "  Downloading thop-0.1.1.post2209072238-py3-none-any.whl (15 kB)\n",
      "Requirement already satisfied: torchvision>=0.8.1 in c:\\users\\abo khaled\\anaconda3\\lib\\site-packages (from ultralytics) (0.14.1)\n",
      "Requirement already satisfied: packaging>=20.0 in c:\\users\\abo khaled\\anaconda3\\lib\\site-packages (from matplotlib>=3.2.2->ultralytics) (21.3)\n",
      "Requirement already satisfied: python-dateutil>=2.7 in c:\\users\\abo khaled\\anaconda3\\lib\\site-packages (from matplotlib>=3.2.2->ultralytics) (2.8.2)\n",
      "Requirement already satisfied: fonttools>=4.22.0 in c:\\users\\abo khaled\\anaconda3\\lib\\site-packages (from matplotlib>=3.2.2->ultralytics) (4.25.0)\n",
      "Requirement already satisfied: kiwisolver>=1.0.1 in c:\\users\\abo khaled\\anaconda3\\lib\\site-packages (from matplotlib>=3.2.2->ultralytics) (1.4.2)\n",
      "Requirement already satisfied: pyparsing>=2.2.1 in c:\\users\\abo khaled\\anaconda3\\lib\\site-packages (from matplotlib>=3.2.2->ultralytics) (3.0.9)\n",
      "Requirement already satisfied: cycler>=0.10 in c:\\users\\abo khaled\\anaconda3\\lib\\site-packages (from matplotlib>=3.2.2->ultralytics) (0.11.0)\n",
      "Requirement already satisfied: pytz>=2020.1 in c:\\users\\abo khaled\\anaconda3\\lib\\site-packages (from pandas>=1.1.4->ultralytics) (2022.1)\n",
      "Requirement already satisfied: idna<4,>=2.5 in c:\\users\\abo khaled\\anaconda3\\lib\\site-packages (from requests>=2.23.0->ultralytics) (3.3)\n",
      "Requirement already satisfied: charset-normalizer<3,>=2 in c:\\users\\abo khaled\\anaconda3\\lib\\site-packages (from requests>=2.23.0->ultralytics) (2.0.4)\n",
      "Requirement already satisfied: urllib3<1.27,>=1.21.1 in c:\\users\\abo khaled\\anaconda3\\lib\\site-packages (from requests>=2.23.0->ultralytics) (1.26.11)\n",
      "Requirement already satisfied: tensorboard-plugin-wit>=1.6.0 in c:\\users\\abo khaled\\anaconda3\\lib\\site-packages (from tensorboard>=2.4.1->ultralytics) (1.8.1)\n",
      "Requirement already satisfied: wheel>=0.26 in c:\\users\\abo khaled\\anaconda3\\lib\\site-packages (from tensorboard>=2.4.1->ultralytics) (0.38.4)\n",
      "Requirement already satisfied: google-auth-oauthlib<0.5,>=0.4.1 in c:\\users\\abo khaled\\anaconda3\\lib\\site-packages (from tensorboard>=2.4.1->ultralytics) (0.4.6)\n",
      "Requirement already satisfied: google-auth<3,>=1.6.3 in c:\\users\\abo khaled\\anaconda3\\lib\\site-packages (from tensorboard>=2.4.1->ultralytics) (2.15.0)\n",
      "Requirement already satisfied: protobuf<4,>=3.9.2 in c:\\users\\abo khaled\\anaconda3\\lib\\site-packages (from tensorboard>=2.4.1->ultralytics) (3.19.6)\n",
      "Requirement already satisfied: markdown>=2.6.8 in c:\\users\\abo khaled\\anaconda3\\lib\\site-packages (from tensorboard>=2.4.1->ultralytics) (3.3.4)\n",
      "Requirement already satisfied: tensorboard-data-server<0.7.0,>=0.6.0 in c:\\users\\abo khaled\\anaconda3\\lib\\site-packages (from tensorboard>=2.4.1->ultralytics) (0.6.1)\n",
      "Requirement already satisfied: setuptools>=41.0.0 in c:\\users\\abo khaled\\anaconda3\\lib\\site-packages (from tensorboard>=2.4.1->ultralytics) (67.2.0)\n",
      "Requirement already satisfied: grpcio>=1.24.3 in c:\\users\\abo khaled\\anaconda3\\lib\\site-packages (from tensorboard>=2.4.1->ultralytics) (1.51.1)\n",
      "Requirement already satisfied: werkzeug>=1.0.1 in c:\\users\\abo khaled\\anaconda3\\lib\\site-packages (from tensorboard>=2.4.1->ultralytics) (2.0.3)\n",
      "Requirement already satisfied: absl-py>=0.4 in c:\\users\\abo khaled\\anaconda3\\lib\\site-packages (from tensorboard>=2.4.1->ultralytics) (1.3.0)\n",
      "Requirement already satisfied: typing_extensions in c:\\users\\abo khaled\\anaconda3\\lib\\site-packages (from torch>=1.7.0->ultralytics) (4.3.0)\n",
      "Requirement already satisfied: colorama in c:\\users\\abo khaled\\anaconda3\\lib\\site-packages (from tqdm>=4.64.0->ultralytics) (0.4.5)\n",
      "Requirement already satisfied: six>=1.9.0 in c:\\users\\abo khaled\\anaconda3\\lib\\site-packages (from google-auth<3,>=1.6.3->tensorboard>=2.4.1->ultralytics) (1.16.0)\n",
      "Requirement already satisfied: pyasn1-modules>=0.2.1 in c:\\users\\abo khaled\\anaconda3\\lib\\site-packages (from google-auth<3,>=1.6.3->tensorboard>=2.4.1->ultralytics) (0.2.8)\n",
      "Requirement already satisfied: rsa<5,>=3.1.4 in c:\\users\\abo khaled\\anaconda3\\lib\\site-packages (from google-auth<3,>=1.6.3->tensorboard>=2.4.1->ultralytics) (4.9)\n",
      "Requirement already satisfied: cachetools<6.0,>=2.0.0 in c:\\users\\abo khaled\\anaconda3\\lib\\site-packages (from google-auth<3,>=1.6.3->tensorboard>=2.4.1->ultralytics) (5.2.0)\n",
      "Requirement already satisfied: requests-oauthlib>=0.7.0 in c:\\users\\abo khaled\\anaconda3\\lib\\site-packages (from google-auth-oauthlib<0.5,>=0.4.1->tensorboard>=2.4.1->ultralytics) (1.3.1)\n",
      "Requirement already satisfied: pyasn1<0.5.0,>=0.4.6 in c:\\users\\abo khaled\\anaconda3\\lib\\site-packages (from pyasn1-modules>=0.2.1->google-auth<3,>=1.6.3->tensorboard>=2.4.1->ultralytics) (0.4.8)\n",
      "Requirement already satisfied: oauthlib>=3.0.0 in c:\\users\\abo khaled\\anaconda3\\lib\\site-packages (from requests-oauthlib>=0.7.0->google-auth-oauthlib<0.5,>=0.4.1->tensorboard>=2.4.1->ultralytics) (3.2.2)\n",
      "Installing collected packages: certifi, thop, sentry-sdk, ultralytics\n",
      "  Attempting uninstall: certifi\n",
      "    Found existing installation: certifi 2022.9.14\n",
      "    Uninstalling certifi-2022.9.14:\n",
      "      Successfully uninstalled certifi-2022.9.14\n",
      "Successfully installed certifi-2022.12.7 sentry-sdk-1.16.0 thop-0.1.1.post2209072238 ultralytics-8.0.48\n",
      "Note: you may need to restart the kernel to use updated packages.\n"
     ]
    },
    {
     "name": "stderr",
     "output_type": "stream",
     "text": [
      "WARNING: Ignoring invalid distribution -etuptools (c:\\users\\abo khaled\\anaconda3\\lib\\site-packages)\n",
      "WARNING: Ignoring invalid distribution -etuptools (c:\\users\\abo khaled\\anaconda3\\lib\\site-packages)\n",
      "WARNING: Ignoring invalid distribution -etuptools (c:\\users\\abo khaled\\anaconda3\\lib\\site-packages)\n",
      "    WARNING: Ignoring invalid distribution -etuptools (c:\\users\\abo khaled\\anaconda3\\lib\\site-packages)\n",
      "WARNING: Ignoring invalid distribution -etuptools (c:\\users\\abo khaled\\anaconda3\\lib\\site-packages)\n",
      "WARNING: Ignoring invalid distribution -etuptools (c:\\users\\abo khaled\\anaconda3\\lib\\site-packages)\n",
      "WARNING: Ignoring invalid distribution -etuptools (c:\\users\\abo khaled\\anaconda3\\lib\\site-packages)\n",
      "WARNING: Ignoring invalid distribution -etuptools (c:\\users\\abo khaled\\anaconda3\\lib\\site-packages)\n",
      "ERROR: pip's dependency resolver does not currently take into account all the packages that are installed. This behaviour is the source of the following dependency conflicts.\n",
      "conda-repo-cli 1.0.20 requires clyent==1.2.1, but you have clyent 1.2.2 which is incompatible.\n",
      "conda-repo-cli 1.0.20 requires nbformat==5.4.0, but you have nbformat 5.5.0 which is incompatible.\n",
      "WARNING: Ignoring invalid distribution -etuptools (c:\\users\\abo khaled\\anaconda3\\lib\\site-packages)\n",
      "WARNING: Ignoring invalid distribution -etuptools (c:\\users\\abo khaled\\anaconda3\\lib\\site-packages)\n",
      "WARNING: Ignoring invalid distribution -etuptools (c:\\users\\abo khaled\\anaconda3\\lib\\site-packages)\n"
     ]
    }
   ],
   "source": [
    "pip install ultralytics"
   ]
  },
  {
   "cell_type": "code",
   "execution_count": null,
   "id": "aa44f603",
   "metadata": {},
   "outputs": [],
   "source": []
  }
 ],
 "metadata": {
  "kernelspec": {
   "display_name": "Python 3 (ipykernel)",
   "language": "python",
   "name": "python3"
  },
  "language_info": {
   "codemirror_mode": {
    "name": "ipython",
    "version": 3
   },
   "file_extension": ".py",
   "mimetype": "text/x-python",
   "name": "python",
   "nbconvert_exporter": "python",
   "pygments_lexer": "ipython3",
   "version": "3.9.13"
  }
 },
 "nbformat": 4,
 "nbformat_minor": 5
}
